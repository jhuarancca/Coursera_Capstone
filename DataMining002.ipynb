{
  "nbformat": 4,
  "nbformat_minor": 0,
  "metadata": {
    "colab": {
      "name": "DataMining002.ipynb",
      "provenance": [],
      "collapsed_sections": [],
      "mount_file_id": "1YVQF97qzqAQYZd8aw9Twa4ov32ICVxgE",
      "authorship_tag": "ABX9TyMsL6jFykZ89CQEb4cLmL5B",
      "include_colab_link": true
    },
    "kernelspec": {
      "name": "python3",
      "display_name": "Python 3"
    },
    "language_info": {
      "name": "python"
    }
  },
  "cells": [
    {
      "cell_type": "markdown",
      "metadata": {
        "id": "view-in-github",
        "colab_type": "text"
      },
      "source": [
        "<a href=\"https://colab.research.google.com/github/jhuarancca/Coursera_Capstone/blob/master/DataMining002.ipynb\" target=\"_parent\"><img src=\"https://colab.research.google.com/assets/colab-badge.svg\" alt=\"Open In Colab\"/></a>"
      ]
    },
    {
      "cell_type": "code",
      "execution_count": null,
      "metadata": {
        "colab": {
          "base_uri": "https://localhost:8080/"
        },
        "id": "fzJv-aL3mvr1",
        "outputId": "e2ce1c82-3465-455b-9592-3dfc9b0e94a4"
      },
      "outputs": [
        {
          "output_type": "stream",
          "name": "stdout",
          "text": [
            "3.7.13 (default, Apr 24 2022, 01:04:09) \n",
            "[GCC 7.5.0]\n"
          ]
        }
      ],
      "source": [
        "import sys\n",
        "print (sys.version)\n",
        "\n"
      ]
    },
    {
      "cell_type": "code",
      "source": [
        "import platform\n",
        "print(platform.python_version())"
      ],
      "metadata": {
        "colab": {
          "base_uri": "https://localhost:8080/"
        },
        "id": "_fjVtxoUnWcn",
        "outputId": "a9f773c0-4fb2-49ae-8d6b-9aa474aa554e"
      },
      "execution_count": null,
      "outputs": [
        {
          "output_type": "stream",
          "name": "stdout",
          "text": [
            "3.7.13\n"
          ]
        }
      ]
    },
    {
      "cell_type": "code",
      "source": [
        "import sklearn\n",
        "print(sklearn.__version__)"
      ],
      "metadata": {
        "colab": {
          "base_uri": "https://localhost:8080/"
        },
        "id": "sMGEm_ZLoIvO",
        "outputId": "33d1d0b8-816b-4999-b8cc-25d659c27b90"
      },
      "execution_count": null,
      "outputs": [
        {
          "output_type": "stream",
          "name": "stdout",
          "text": [
            "0.21.2\n"
          ]
        }
      ]
    },
    {
      "cell_type": "code",
      "source": [
        "import pandas\n",
        "print(pandas.__version__)"
      ],
      "metadata": {
        "colab": {
          "base_uri": "https://localhost:8080/"
        },
        "id": "-SDcUAuzoilH",
        "outputId": "d2d34096-90e9-4465-e0da-b1aa9380b884"
      },
      "execution_count": null,
      "outputs": [
        {
          "output_type": "stream",
          "name": "stdout",
          "text": [
            "1.3.5\n"
          ]
        }
      ]
    },
    {
      "cell_type": "code",
      "source": [
        "pip install scikit-learn==0.21.2\n"
      ],
      "metadata": {
        "id": "TBss_El8oUxM"
      },
      "execution_count": null,
      "outputs": []
    },
    {
      "cell_type": "code",
      "source": [
        "import pandas as pd\n",
        "\n",
        "dfIns = pd.read_csv ('InsulinData.csv')\n",
        "dfCGM = pd.read_csv ('CGMData.csv')\n",
        "\n",
        "dfIns['Datetime']=pd.to_datetime(dfIns['Date'] + ' ' + dfIns['Time'])\n",
        "dfCGM['Datetime']=pd.to_datetime(dfCGM['Date'] + ' ' + dfCGM['Time'])\n",
        "\n",
        "dfIns2=dfIns[dfIns[\"Alarm\"] == \"AUTO MODE ACTIVE PLGM OFF\"]\n",
        "# 1154\t11/4/2017\t17:36:46\n",
        "# 20836\t8/9/2017\t8:07:13\n",
        "ldt_manual=dfIns2['Datetime'].iloc[0]\n",
        "#print(ldt_manual)\n",
        "#2017-11-04 17:36:46\n",
        "dfCGM.loc[dfCGM['Datetime']<= ldt_manual, 'Manual'] = 'Y'\n",
        "dfCGM.loc[dfCGM['Datetime']> ldt_manual, 'Manual'] = 'N'\n"
      ],
      "metadata": {
        "colab": {
          "base_uri": "https://localhost:8080/"
        },
        "id": "fv9BvCPH1L32",
        "outputId": "06f03aef-9ab4-4e87-b912-2544573b0bdd"
      },
      "execution_count": 1,
      "outputs": [
        {
          "output_type": "stream",
          "name": "stderr",
          "text": [
            "/usr/local/lib/python3.7/dist-packages/IPython/core/interactiveshell.py:3326: DtypeWarning: Columns (13,43) have mixed types.Specify dtype option on import or set low_memory=False.\n",
            "  exec(code_obj, self.user_global_ns, self.user_ns)\n",
            "/usr/local/lib/python3.7/dist-packages/IPython/core/interactiveshell.py:3326: DtypeWarning: Columns (32) have mixed types.Specify dtype option on import or set low_memory=False.\n",
            "  exec(code_obj, self.user_global_ns, self.user_ns)\n"
          ]
        }
      ]
    },
    {
      "cell_type": "code",
      "source": [
        "#dfCGM[dfCGM.Datetime > ldt_manual]\n",
        "#dfCGM[dfCGM.Date == '2/1/2018']\n",
        "\n",
        "#dfCGM['Hour']= pd.to_datetime(dfCGM['Time'], format='%H:%M:%S').dt.hour\n",
        "\n",
        "\n",
        "#dfCGM.set_index('Datetime').between_time('00:00', '05:59').reset_index()\n",
        "\n",
        "#dfCGM.loc[(dfCGM['Datetime'].hour>=6) & (dfCGM['Datetime'].hour<=23)]\n",
        "\n",
        "#dfCGM.loc[(dfCGM['Time']>= '06:00:00') & (dfCGM['Time']<= '23:59:59') & (dfCGM.Date == '2/12/2018')]\n",
        "#dfCGM.loc[(dfCGM['Datetime'].hour>= 6) & (dfCGM['Datetime'].hour<= 23) & (dfCGM.Date == '2/12/2018')]\n",
        "\n",
        "#dfCGM.loc[(dfCGM['Time']>= '00:00:00') & (dfCGM['Time']< '06:00:00')]\n",
        "\n",
        "dfCGM.loc[(pd.to_datetime(dfCGM['Time'], format='%H:%M:%S').dt.hour>=0) & (pd.to_datetime(dfCGM['Time'], format='%H:%M:%S').dt.hour<=6), 'Interval'] = 'overnight'\n",
        "dfCGM.loc[(pd.to_datetime(dfCGM['Time'], format='%H:%M:%S').dt.hour>=7) & (pd.to_datetime(dfCGM['Time'], format='%H:%M:%S').dt.hour<=23), 'Interval'] = 'daytime'\n",
        "\n",
        "dfCGM.rename(columns={\"Sensor Glucose (mg/dL)\": \"Glucose\"},inplace=True)\n",
        "dfCGM = dfCGM.drop(dfCGM[dfCGM['Glucose'].isna()].index)\n"
      ],
      "metadata": {
        "id": "6X4pl24xadqL"
      },
      "execution_count": 2,
      "outputs": []
    },
    {
      "cell_type": "code",
      "source": [
        "#dfCGM[dfCGM.Datetime > ldt_manual]\n",
        "#dfCGM[dfCGM.Date == '2/1/2018']\n",
        "#dfCGM.columns\n",
        "#dfCGM.loc[(dfCGM.Date == '2/1/2018')]\n",
        "#dfCGM[\"Glucose\"]\n",
        "#dfCGM[dfCGM['Glucose'].isna()]\n",
        "#dfCGM[\"Glucose\"]\n",
        "#dfCGM[dfCGM['Glucose'].isna()]\n",
        "\n",
        "#Percentage time in hyperglycemia (CGM > 180 mg/dL), \n",
        "#percentage time in hyperglycemia critical (CGM > 250 mg/dL), \n",
        "#percentage time in range (CGM >= 70 mg/dL and CGM <= 180 mg/dL), \n",
        "#percentage time in range secondary (CGM >= 70 mg/dL and CGM <= 150 mg/dL), \n",
        "#percentage time in hypoglycemia level 1 (CGM < 70 mg/dL), and \n",
        "#percentage time in hypoglycemia level 2 (CGM < 54 mg/dL).\n",
        "\n",
        "#print(dfCGM.loc[dfCGM.Glucose>180, 'Glucose'].mean())\n",
        "#print(dfCGM.loc[dfCGM.Glucose>180, 'Glucose'].sum())\n",
        "\n",
        "#print(dfCGM.loc[dfCGM.Glucose>250, 'Glucose'].count())\n",
        "#print(dfCGM.loc[dfCGM.Glucose<=180,'Glucose'].count())\n",
        "\n",
        "#Manual mode\n",
        "ln_00=dfCGM.loc[(dfCGM['Manual']=='Y'), 'Glucose'].count()\n",
        "ln_01=round(dfCGM.loc[(dfCGM['Manual']=='Y') & (dfCGM['Glucose'] >180), 'Glucose'].count()/ln_00*100,3)\n",
        "ln_02=round(dfCGM.loc[(dfCGM['Manual']=='Y') & (dfCGM['Glucose'] >250), 'Glucose'].count()/ln_00*100,3)\n",
        "ln_03=round(dfCGM.loc[(dfCGM['Manual']=='Y') & (dfCGM['Glucose'] >=70) & (dfCGM['Glucose'] <=180), 'Glucose'].count()/ln_00*100,3)\n",
        "ln_04=round(dfCGM.loc[(dfCGM['Manual']=='Y') & (dfCGM['Glucose'] >=70) & (dfCGM['Glucose'] <=150), 'Glucose'].count()/ln_00*100,3)\n",
        "ln_05=round(dfCGM.loc[(dfCGM['Manual']=='Y') & (dfCGM['Glucose'] <70), 'Glucose'].count()/ln_00*100,3)\n",
        "ln_06=round(dfCGM.loc[(dfCGM['Manual']=='Y') & (dfCGM['Glucose'] <54), 'Glucose'].count()/ln_00*100,3)\n",
        "\n",
        "ln_10=dfCGM.loc[(dfCGM['Manual']=='Y') & (dfCGM['Interval'] =='overnight'), 'Glucose'].count()\n",
        "ln_11=round(dfCGM.loc[(dfCGM['Manual']=='Y') & (dfCGM['Interval'] =='overnight') & (dfCGM['Glucose'] >180), 'Glucose'].count()/ln_10*100,3)\n",
        "ln_12=round(dfCGM.loc[(dfCGM['Manual']=='Y') & (dfCGM['Interval'] =='overnight') & (dfCGM['Glucose'] >250), 'Glucose'].count()/ln_10*100,3)\n",
        "ln_13=round(dfCGM.loc[(dfCGM['Manual']=='Y') & (dfCGM['Interval'] =='overnight') & (dfCGM['Glucose'] >=70) & (dfCGM['Glucose'] <=180), 'Glucose'].count()/ln_10*100,3)\n",
        "ln_14=round(dfCGM.loc[(dfCGM['Manual']=='Y') & (dfCGM['Interval'] =='overnight') & (dfCGM['Glucose'] >=70) & (dfCGM['Glucose'] <=150), 'Glucose'].count()/ln_10*100,3)\n",
        "ln_15=round(dfCGM.loc[(dfCGM['Manual']=='Y') & (dfCGM['Interval'] =='overnight') & (dfCGM['Glucose'] <70), 'Glucose'].count()/ln_10*100,3)\n",
        "ln_16=round(dfCGM.loc[(dfCGM['Manual']=='Y') & (dfCGM['Interval'] =='overnight') & (dfCGM['Glucose'] <54), 'Glucose'].count()/ln_10*100,3)\n",
        "\n",
        "ln_20=dfCGM.loc[(dfCGM['Manual']=='Y') & (dfCGM['Interval'] =='daytime'), 'Glucose'].count()\n",
        "ln_21=round(dfCGM.loc[(dfCGM['Manual']=='Y') & (dfCGM['Interval'] =='daytime') & (dfCGM['Glucose'] >180), 'Glucose'].count()/ln_20*100,3)\n",
        "ln_22=round(dfCGM.loc[(dfCGM['Manual']=='Y') & (dfCGM['Interval'] =='daytime') & (dfCGM['Glucose'] >250), 'Glucose'].count()/ln_20*100,3)\n",
        "ln_23=round(dfCGM.loc[(dfCGM['Manual']=='Y') & (dfCGM['Interval'] =='daytime') & (dfCGM['Glucose'] >=70) & (dfCGM['Glucose'] <=180), 'Glucose'].count()/ln_20*100,3)\n",
        "ln_24=round(dfCGM.loc[(dfCGM['Manual']=='Y') & (dfCGM['Interval'] =='daytime') & (dfCGM['Glucose'] >=70) & (dfCGM['Glucose'] <=150), 'Glucose'].count()/ln_20*100,3)\n",
        "ln_25=round(dfCGM.loc[(dfCGM['Manual']=='Y') & (dfCGM['Interval'] =='daytime') & (dfCGM['Glucose'] <70), 'Glucose'].count()/ln_20*100,3)\n",
        "ln_26=round(dfCGM.loc[(dfCGM['Manual']=='Y') & (dfCGM['Interval'] =='daytime') & (dfCGM['Glucose'] <54), 'Glucose'].count()/ln_20*100,3)\n",
        "\n",
        "#Automatic mode\n",
        "ln_50=dfCGM.loc[(dfCGM['Manual']=='N'), 'Glucose'].count()\n",
        "ln_51=round(dfCGM.loc[(dfCGM['Manual']=='N') & (dfCGM['Glucose'] >180), 'Glucose'].count()/ln_50*100,3)\n",
        "ln_52=round(dfCGM.loc[(dfCGM['Manual']=='N') & (dfCGM['Glucose'] >250), 'Glucose'].count()/ln_50*100,3)\n",
        "ln_53=round(dfCGM.loc[(dfCGM['Manual']=='N') & (dfCGM['Glucose'] >=70) & (dfCGM['Glucose'] <=180), 'Glucose'].count()/ln_50*100,3)\n",
        "ln_54=round(dfCGM.loc[(dfCGM['Manual']=='N') & (dfCGM['Glucose'] >=70) & (dfCGM['Glucose'] <=150), 'Glucose'].count()/ln_50*100,3)\n",
        "ln_55=round(dfCGM.loc[(dfCGM['Manual']=='N') & (dfCGM['Glucose'] <70), 'Glucose'].count()/ln_50*100,3)\n",
        "ln_56=round(dfCGM.loc[(dfCGM['Manual']=='N') & (dfCGM['Glucose'] <54), 'Glucose'].count()/ln_50*100,3)\n",
        "\n",
        "ln_60=dfCGM.loc[(dfCGM['Manual']=='N') & (dfCGM['Interval'] =='overnight'), 'Glucose'].count()\n",
        "ln_61=round(dfCGM.loc[(dfCGM['Manual']=='N') & (dfCGM['Interval'] =='overnight') & (dfCGM['Glucose'] >180), 'Glucose'].count()/ln_60*100,3)\n",
        "ln_62=round(dfCGM.loc[(dfCGM['Manual']=='N') & (dfCGM['Interval'] =='overnight') & (dfCGM['Glucose'] >250), 'Glucose'].count()/ln_60*100,3)\n",
        "ln_63=round(dfCGM.loc[(dfCGM['Manual']=='N') & (dfCGM['Interval'] =='overnight') & (dfCGM['Glucose'] >=70) & (dfCGM['Glucose'] <=180), 'Glucose'].count()/ln_60*100,3)\n",
        "ln_64=round(dfCGM.loc[(dfCGM['Manual']=='N') & (dfCGM['Interval'] =='overnight') & (dfCGM['Glucose'] >=70) & (dfCGM['Glucose'] <=150), 'Glucose'].count()/ln_60*100,3)\n",
        "ln_65=round(dfCGM.loc[(dfCGM['Manual']=='N') & (dfCGM['Interval'] =='overnight') & (dfCGM['Glucose'] <70), 'Glucose'].count()/ln_60*100,3)\n",
        "ln_66=round(dfCGM.loc[(dfCGM['Manual']=='N') & (dfCGM['Interval'] =='overnight') & (dfCGM['Glucose'] <54), 'Glucose'].count()/ln_60*100,3)\n",
        "\n",
        "ln_70=dfCGM.loc[(dfCGM['Manual']=='N') & (dfCGM['Interval'] =='daytime'), 'Glucose'].count()\n",
        "ln_71=round(dfCGM.loc[(dfCGM['Manual']=='N') & (dfCGM['Interval'] =='daytime') & (dfCGM['Glucose'] >180), 'Glucose'].count()/ln_70*100,3)\n",
        "ln_72=round(dfCGM.loc[(dfCGM['Manual']=='N') & (dfCGM['Interval'] =='daytime') & (dfCGM['Glucose'] >250), 'Glucose'].count()/ln_70*100,3)\n",
        "ln_73=round(dfCGM.loc[(dfCGM['Manual']=='N') & (dfCGM['Interval'] =='daytime') & (dfCGM['Glucose'] >=70) & (dfCGM['Glucose'] <=180), 'Glucose'].count()/ln_70*100,3)\n",
        "ln_74=round(dfCGM.loc[(dfCGM['Manual']=='N') & (dfCGM['Interval'] =='daytime') & (dfCGM['Glucose'] >=70) & (dfCGM['Glucose'] <=150), 'Glucose'].count()/ln_70*100,3)\n",
        "ln_75=round(dfCGM.loc[(dfCGM['Manual']=='N') & (dfCGM['Interval'] =='daytime') & (dfCGM['Glucose'] <70), 'Glucose'].count()/ln_70*100,3)\n",
        "ln_76=round(dfCGM.loc[(dfCGM['Manual']=='N') & (dfCGM['Interval'] =='daytime') & (dfCGM['Glucose'] <54), 'Glucose'].count()/ln_70*100,3)\n",
        "\n",
        "#print('overnight')\n",
        "#print(ln_10)\n",
        "#print(ln_11)\n",
        "#print(ln_12)\n",
        "#print(ln_13)\n",
        "#print(ln_14)\n",
        "#print(ln_15)\n",
        "#print(ln_16)\n",
        "\n",
        "#print('daytime')\n",
        "#print(ln_20)\n",
        "#print(ln_21)\n",
        "#print(ln_22)\n",
        "#print(ln_23)\n",
        "#print(ln_24)\n",
        "#print(ln_25)\n",
        "#print(ln_26)\n",
        "\n",
        "#print('day')\n",
        "#print(ln_00)\n",
        "#print(ln_01)\n",
        "#print(ln_02)\n",
        "#print(ln_03)\n",
        "#print(ln_04)\n",
        "#print(ln_05)\n",
        "print(ln_06)\n",
        "\n",
        "#data = [['tom', 10], ['nick', 15], ['juli', 14]]\n",
        "#data = [[ln_11],[ln_12],[ln_13],[ln_14],[ln_15],[ln_16],[ln_21],[ln_22],[ln_23],[ln_24],[ln_25],[ln_26],[ln_01],[ln_02],[ln_03],[ln_04],[ln_05],[ln_06]]\n",
        "#data = [[ln_11],[ln_12],[ln_13],[ln_14],[ln_15],[ln_16]]\n",
        "  \n",
        "# Create the pandas DataFrame\n",
        "#dfresult = pd.DataFrame(data, columns=['Name', 'Age'])\n",
        "  \n",
        "# print dataframe.\n",
        "#df\n",
        "dfResult=pd.DataFrame({ '00': ['Manual','Automatic'],\n",
        "                        '01': [ln_11,ln_51],'02': [ln_12,ln_52],'03': [ln_13,ln_53],'04': [ln_14,ln_54],'05': [ln_15,ln_55],'06': [ln_16,ln_56],\n",
        "                        '07': [ln_21,ln_61],'08': [ln_22,ln_62],'09': [ln_23,ln_63],'10': [ln_24,ln_64],'11': [ln_25,ln_65],'12': [ln_26,ln_66],\n",
        "                        '13': [ln_01,ln_71],'14': [ln_02,ln_72],'15': [ln_03,ln_73],'16': [ln_04,ln_74],'17': [ln_05,ln_75],'18': [ln_06,ln_76] })\n",
        "# Priting data\n",
        "dfResult\n",
        "dfResult.to_csv('Results.csv', header=False, index= False)\n",
        "\n",
        "#dfResult = pd.DataFrame(data,columns=['01','02','03','04','05','06','07','08','09','10','11','12','13','14','15','16','17','18'])\n",
        "#dfResult = pd.DataFrame([[ln_11],[ln_12],[ln_13],[ln_14],[ln_15],[ln_16]],columns=['01','02','03','04','05','06'])\n",
        "#dfResult\n",
        "\n",
        "#dfCGM[(dfCGM['Glucose']>250)].count()\n",
        "#dfCGM[(dfCGM['Glucose']>180) & (dfCGM['Glucose']<=250)].count()\n",
        "\n",
        "\n"
      ],
      "metadata": {
        "colab": {
          "base_uri": "https://localhost:8080/"
        },
        "id": "VZ1zYGvueyYS",
        "outputId": "70c4fc4d-f299-4e2b-8458-2574a23f6c21"
      },
      "execution_count": 71,
      "outputs": [
        {
          "output_type": "stream",
          "name": "stdout",
          "text": [
            "1.106\n"
          ]
        }
      ]
    },
    {
      "cell_type": "code",
      "source": [
        ""
      ],
      "metadata": {
        "id": "K3vE_7ijAtqp"
      },
      "execution_count": null,
      "outputs": []
    }
  ]
}