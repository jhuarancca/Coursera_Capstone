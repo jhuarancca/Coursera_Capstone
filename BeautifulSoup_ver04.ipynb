{
 "cells": [
  {
   "cell_type": "code",
   "execution_count": 4,
   "metadata": {},
   "outputs": [
    {
     "name": "stdout",
     "output_type": "stream",
     "text": [
      "(103, 3)\n"
     ]
    },
    {
     "data": {
      "text/html": [
       "<div>\n",
       "<style scoped>\n",
       "    .dataframe tbody tr th:only-of-type {\n",
       "        vertical-align: middle;\n",
       "    }\n",
       "\n",
       "    .dataframe tbody tr th {\n",
       "        vertical-align: top;\n",
       "    }\n",
       "\n",
       "    .dataframe thead th {\n",
       "        text-align: right;\n",
       "    }\n",
       "</style>\n",
       "<table border=\"1\" class=\"dataframe\">\n",
       "  <thead>\n",
       "    <tr style=\"text-align: right;\">\n",
       "      <th></th>\n",
       "      <th>PostalCode</th>\n",
       "      <th>Borough</th>\n",
       "      <th>Neighborhood</th>\n",
       "    </tr>\n",
       "  </thead>\n",
       "  <tbody>\n",
       "    <tr>\n",
       "      <th>1</th>\n",
       "      <td>M3A</td>\n",
       "      <td>North York</td>\n",
       "      <td>Parkwoods</td>\n",
       "    </tr>\n",
       "    <tr>\n",
       "      <th>2</th>\n",
       "      <td>M4A</td>\n",
       "      <td>North York</td>\n",
       "      <td>Victoria Village</td>\n",
       "    </tr>\n",
       "    <tr>\n",
       "      <th>3</th>\n",
       "      <td>M5A</td>\n",
       "      <td>Downtown Toronto</td>\n",
       "      <td>Harbourfront;Regent Park</td>\n",
       "    </tr>\n",
       "    <tr>\n",
       "      <th>4</th>\n",
       "      <td>M6A</td>\n",
       "      <td>North York</td>\n",
       "      <td>Lawrence Heights;Lawrence Manor</td>\n",
       "    </tr>\n",
       "    <tr>\n",
       "      <th>5</th>\n",
       "      <td>M7A</td>\n",
       "      <td>Queen's Park</td>\n",
       "      <td>Queen's Park</td>\n",
       "    </tr>\n",
       "  </tbody>\n",
       "</table>\n",
       "</div>"
      ],
      "text/plain": [
       "  PostalCode           Borough                     Neighborhood\n",
       "1        M3A        North York                        Parkwoods\n",
       "2        M4A        North York                 Victoria Village\n",
       "3        M5A  Downtown Toronto         Harbourfront;Regent Park\n",
       "4        M6A        North York  Lawrence Heights;Lawrence Manor\n",
       "5        M7A      Queen's Park                     Queen's Park"
      ]
     },
     "execution_count": 4,
     "metadata": {},
     "output_type": "execute_result"
    }
   ],
   "source": [
    "from bs4 import BeautifulSoup\n",
    "import requests\n",
    "import csv\n",
    "import pandas as pd\n",
    "\n",
    "with open('ListaCANADA.html') as html_file:\n",
    "#with open('http://coreyms.com') as html_file:\n",
    "    soup=BeautifulSoup(html_file,'lxml')\n",
    "\n",
    "data = pd.DataFrame(columns=['PostalCode', 'Borough', 'Neighborhood'])\n",
    "\n",
    "j=1  \n",
    "for city in soup.findAll('table',class_=\"wikitable sortable\"):\n",
    "\n",
    "    PostalCodeOld=''\n",
    "    BoroughOld=''\n",
    "    NeighborhoodOld=''\n",
    "\n",
    "    PostalCodeNew=''\n",
    "    BoroughNew=''\n",
    "    NeighborhoodNew=''\n",
    "    \n",
    "    Insertar=0\n",
    "    \n",
    "    for row in city.find_all('tr'):\n",
    "        i=1\n",
    "        for row1 in row.find_all('td'):\n",
    "            try:\n",
    "                #print(row1.text)\n",
    "                if i==1:\n",
    "                    PostalCodeNew=row1.text\n",
    "                else:    \n",
    "                    if i==2:\n",
    "                        BoroughNew=row1.text\n",
    "                    else:\n",
    "                        if i==3:\n",
    "                            NeighborhoodNew=row1.text.replace(\"\\n\",\"\")\n",
    "                            if NeighborhoodNew==\"Not assigned\":\n",
    "                                NeighborhoodNew=BoroughNew\n",
    "\n",
    "            except Exception as e:    \n",
    "                row1=None\n",
    "            \n",
    "            i=i+1\n",
    "           \n",
    "        if PostalCodeNew!='' and BoroughNew!=\"Not assigned\":\n",
    "            if PostalCodeNew==PostalCodeOld:\n",
    "                NeighborhoodNew=NeighborhoodOld+\";\"+NeighborhoodNew\n",
    "                data.at[[j - 1],\"Neighborhood\"]= NeighborhoodNew\n",
    "            else:\n",
    "                data.loc[j] = [PostalCodeNew, BoroughNew, NeighborhoodNew]\n",
    "                j=j+1\n",
    "           \n",
    "        PostalCodeOld=PostalCodeNew\n",
    "        BoroughOld=BoroughNew\n",
    "        NeighborhoodOld=NeighborhoodNew\n",
    "\n",
    "\n",
    "print(data.shape)\n",
    "data.head()\n"
   ]
  },
  {
   "cell_type": "code",
   "execution_count": null,
   "metadata": {},
   "outputs": [],
   "source": []
  },
  {
   "cell_type": "code",
   "execution_count": null,
   "metadata": {},
   "outputs": [],
   "source": []
  },
  {
   "cell_type": "code",
   "execution_count": null,
   "metadata": {},
   "outputs": [],
   "source": []
  },
  {
   "cell_type": "code",
   "execution_count": null,
   "metadata": {},
   "outputs": [],
   "source": []
  },
  {
   "cell_type": "code",
   "execution_count": null,
   "metadata": {},
   "outputs": [],
   "source": []
  },
  {
   "cell_type": "code",
   "execution_count": null,
   "metadata": {},
   "outputs": [],
   "source": []
  }
 ],
 "metadata": {
  "kernelspec": {
   "display_name": "Python 3",
   "language": "python",
   "name": "python3"
  },
  "language_info": {
   "codemirror_mode": {
    "name": "ipython",
    "version": 3
   },
   "file_extension": ".py",
   "mimetype": "text/x-python",
   "name": "python",
   "nbconvert_exporter": "python",
   "pygments_lexer": "ipython3",
   "version": "3.6.8"
  }
 },
 "nbformat": 4,
 "nbformat_minor": 2
}
